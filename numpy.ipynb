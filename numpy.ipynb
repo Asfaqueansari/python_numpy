{
 "cells": [
  {
   "cell_type": "code",
   "execution_count": 1,
   "id": "58f6a609",
   "metadata": {},
   "outputs": [],
   "source": [
    "#numpy\n",
    "import numpy as np\n",
    "l1 = [10,20,30,40]"
   ]
  },
  {
   "cell_type": "code",
   "execution_count": 3,
   "id": "b65d772d",
   "metadata": {},
   "outputs": [],
   "source": [
    "n1 =np.array(l1)"
   ]
  },
  {
   "cell_type": "code",
   "execution_count": 4,
   "id": "e1c37827",
   "metadata": {},
   "outputs": [
    {
     "data": {
      "text/plain": [
       "array([10, 20, 30, 40])"
      ]
     },
     "execution_count": 4,
     "metadata": {},
     "output_type": "execute_result"
    }
   ],
   "source": [
    "n1"
   ]
  },
  {
   "cell_type": "code",
   "execution_count": 5,
   "id": "b078d4fc",
   "metadata": {},
   "outputs": [
    {
     "data": {
      "text/plain": [
       "numpy.ndarray"
      ]
     },
     "execution_count": 5,
     "metadata": {},
     "output_type": "execute_result"
    }
   ],
   "source": [
    "type(n1)"
   ]
  },
  {
   "cell_type": "code",
   "execution_count": 7,
   "id": "1752e7e1",
   "metadata": {},
   "outputs": [],
   "source": [
    "#2 dimensional array\n",
    "n2 = np.array([[1,2,3,4],[4,3,2,1]])"
   ]
  },
  {
   "cell_type": "code",
   "execution_count": 8,
   "id": "2e8b9291",
   "metadata": {},
   "outputs": [
    {
     "data": {
      "text/plain": [
       "array([[1, 2, 3, 4],\n",
       "       [4, 3, 2, 1]])"
      ]
     },
     "execution_count": 8,
     "metadata": {},
     "output_type": "execute_result"
    }
   ],
   "source": [
    "n2"
   ]
  },
  {
   "cell_type": "code",
   "execution_count": 9,
   "id": "a6f622e0",
   "metadata": {},
   "outputs": [
    {
     "data": {
      "text/plain": [
       "numpy.ndarray"
      ]
     },
     "execution_count": 9,
     "metadata": {},
     "output_type": "execute_result"
    }
   ],
   "source": [
    "type(n2)"
   ]
  },
  {
   "cell_type": "code",
   "execution_count": 10,
   "id": "5844ca29",
   "metadata": {},
   "outputs": [],
   "source": [
    "#initialize numpy array with zero\n",
    "n3 = np.zeros((1,2))"
   ]
  },
  {
   "cell_type": "code",
   "execution_count": 11,
   "id": "5c4e7751",
   "metadata": {},
   "outputs": [
    {
     "data": {
      "text/plain": [
       "array([[0., 0.]])"
      ]
     },
     "execution_count": 11,
     "metadata": {},
     "output_type": "execute_result"
    }
   ],
   "source": [
    "n3"
   ]
  },
  {
   "cell_type": "code",
   "execution_count": 12,
   "id": "245f80cd",
   "metadata": {},
   "outputs": [
    {
     "data": {
      "text/plain": [
       "numpy.ndarray"
      ]
     },
     "execution_count": 12,
     "metadata": {},
     "output_type": "execute_result"
    }
   ],
   "source": [
    "type(n3)"
   ]
  },
  {
   "cell_type": "code",
   "execution_count": 13,
   "id": "294d753b",
   "metadata": {},
   "outputs": [],
   "source": [
    "n4 = np.zeros((5,5))"
   ]
  },
  {
   "cell_type": "code",
   "execution_count": 14,
   "id": "fa5c1756",
   "metadata": {},
   "outputs": [
    {
     "data": {
      "text/plain": [
       "array([[0., 0., 0., 0., 0.],\n",
       "       [0., 0., 0., 0., 0.],\n",
       "       [0., 0., 0., 0., 0.],\n",
       "       [0., 0., 0., 0., 0.],\n",
       "       [0., 0., 0., 0., 0.]])"
      ]
     },
     "execution_count": 14,
     "metadata": {},
     "output_type": "execute_result"
    }
   ],
   "source": [
    "n4"
   ]
  },
  {
   "cell_type": "code",
   "execution_count": 15,
   "id": "4b5c2e6b",
   "metadata": {},
   "outputs": [
    {
     "data": {
      "text/plain": [
       "numpy.ndarray"
      ]
     },
     "execution_count": 15,
     "metadata": {},
     "output_type": "execute_result"
    }
   ],
   "source": [
    "type(n4)"
   ]
  },
  {
   "cell_type": "code",
   "execution_count": 16,
   "id": "ae21f78a",
   "metadata": {},
   "outputs": [],
   "source": [
    "#initialize numpy array with same number\n",
    "n5 = np.full((3,4),50)"
   ]
  },
  {
   "cell_type": "code",
   "execution_count": 17,
   "id": "0d068a49",
   "metadata": {},
   "outputs": [
    {
     "data": {
      "text/plain": [
       "array([[50, 50, 50, 50],\n",
       "       [50, 50, 50, 50],\n",
       "       [50, 50, 50, 50]])"
      ]
     },
     "execution_count": 17,
     "metadata": {},
     "output_type": "execute_result"
    }
   ],
   "source": [
    "n5"
   ]
  },
  {
   "cell_type": "code",
   "execution_count": 19,
   "id": "e19da441",
   "metadata": {},
   "outputs": [],
   "source": [
    "n6 = np.arange(10,30)"
   ]
  },
  {
   "cell_type": "code",
   "execution_count": 20,
   "id": "4b6c9f1f",
   "metadata": {},
   "outputs": [
    {
     "data": {
      "text/plain": [
       "array([10, 11, 12, 13, 14, 15, 16, 17, 18, 19, 20, 21, 22, 23, 24, 25, 26,\n",
       "       27, 28, 29])"
      ]
     },
     "execution_count": 20,
     "metadata": {},
     "output_type": "execute_result"
    }
   ],
   "source": [
    "n6"
   ]
  },
  {
   "cell_type": "code",
   "execution_count": 25,
   "id": "28a37d22",
   "metadata": {},
   "outputs": [],
   "source": [
    "n7 = np.arange(10,51,5)"
   ]
  },
  {
   "cell_type": "code",
   "execution_count": 26,
   "id": "72da958d",
   "metadata": {},
   "outputs": [
    {
     "data": {
      "text/plain": [
       "array([10, 15, 20, 25, 30, 35, 40, 45, 50])"
      ]
     },
     "execution_count": 26,
     "metadata": {},
     "output_type": "execute_result"
    }
   ],
   "source": [
    "n7"
   ]
  },
  {
   "cell_type": "code",
   "execution_count": 35,
   "id": "0fcd0d4b",
   "metadata": {},
   "outputs": [],
   "source": [
    "#initialize numpy array with random number\n",
    "n8 = np.random.randint(100,200,10)"
   ]
  },
  {
   "cell_type": "code",
   "execution_count": 36,
   "id": "4874a90d",
   "metadata": {},
   "outputs": [
    {
     "data": {
      "text/plain": [
       "array([130, 154, 147, 124, 144, 158, 101, 106, 183, 195])"
      ]
     },
     "execution_count": 36,
     "metadata": {},
     "output_type": "execute_result"
    }
   ],
   "source": [
    "n8"
   ]
  },
  {
   "cell_type": "code",
   "execution_count": 38,
   "id": "c8a0cd66",
   "metadata": {},
   "outputs": [],
   "source": [
    "#numpy shape\n",
    "n9 = np.array([[1,2,3],[4,5,6]])"
   ]
  },
  {
   "cell_type": "code",
   "execution_count": 39,
   "id": "775865f1",
   "metadata": {},
   "outputs": [
    {
     "data": {
      "text/plain": [
       "array([[1, 2, 3],\n",
       "       [4, 5, 6]])"
      ]
     },
     "execution_count": 39,
     "metadata": {},
     "output_type": "execute_result"
    }
   ],
   "source": [
    "n9"
   ]
  },
  {
   "cell_type": "code",
   "execution_count": 40,
   "id": "adda462d",
   "metadata": {},
   "outputs": [
    {
     "data": {
      "text/plain": [
       "(2, 3)"
      ]
     },
     "execution_count": 40,
     "metadata": {},
     "output_type": "execute_result"
    }
   ],
   "source": [
    "n9.shape"
   ]
  },
  {
   "cell_type": "code",
   "execution_count": 41,
   "id": "298b5241",
   "metadata": {},
   "outputs": [],
   "source": [
    "n9.shape = (3,2)"
   ]
  },
  {
   "cell_type": "code",
   "execution_count": 42,
   "id": "ec3b5560",
   "metadata": {},
   "outputs": [
    {
     "data": {
      "text/plain": [
       "array([[1, 2],\n",
       "       [3, 4],\n",
       "       [5, 6]])"
      ]
     },
     "execution_count": 42,
     "metadata": {},
     "output_type": "execute_result"
    }
   ],
   "source": [
    "n9"
   ]
  },
  {
   "cell_type": "code",
   "execution_count": 46,
   "id": "fa72d99d",
   "metadata": {},
   "outputs": [],
   "source": [
    "# numpy vstack()\n",
    "p1 =np.array([1,2,3])"
   ]
  },
  {
   "cell_type": "code",
   "execution_count": 47,
   "id": "2982a377",
   "metadata": {},
   "outputs": [],
   "source": [
    "p2 = np.array([4,5,6])"
   ]
  },
  {
   "cell_type": "code",
   "execution_count": 48,
   "id": "515b4634",
   "metadata": {},
   "outputs": [
    {
     "data": {
      "text/plain": [
       "array([[1, 2, 3],\n",
       "       [4, 5, 6]])"
      ]
     },
     "execution_count": 48,
     "metadata": {},
     "output_type": "execute_result"
    }
   ],
   "source": [
    "np.vstack((p1,p2))"
   ]
  },
  {
   "cell_type": "code",
   "execution_count": 49,
   "id": "e6ee7013",
   "metadata": {},
   "outputs": [],
   "source": [
    "#numpy hstack()\n",
    "p3 = np.array([10,20,30])"
   ]
  },
  {
   "cell_type": "code",
   "execution_count": 50,
   "id": "7bf6f950",
   "metadata": {},
   "outputs": [],
   "source": [
    "p4 = np.array([40,50,60])"
   ]
  },
  {
   "cell_type": "code",
   "execution_count": 51,
   "id": "a1de99a6",
   "metadata": {},
   "outputs": [
    {
     "data": {
      "text/plain": [
       "array([10, 20, 30, 40, 50, 60])"
      ]
     },
     "execution_count": 51,
     "metadata": {},
     "output_type": "execute_result"
    }
   ],
   "source": [
    "np.hstack((p3,p4))"
   ]
  },
  {
   "cell_type": "code",
   "execution_count": 52,
   "id": "c0efc3d5",
   "metadata": {},
   "outputs": [],
   "source": [
    "# numpy coloumn_stack\n",
    "p4 = np.array([6,7,8,9])"
   ]
  },
  {
   "cell_type": "code",
   "execution_count": 53,
   "id": "3e1a475c",
   "metadata": {},
   "outputs": [],
   "source": [
    "p5 = np.array([9,8,7,6])"
   ]
  },
  {
   "cell_type": "code",
   "execution_count": 54,
   "id": "7ea1c079",
   "metadata": {},
   "outputs": [
    {
     "data": {
      "text/plain": [
       "array([[6, 9],\n",
       "       [7, 8],\n",
       "       [8, 7],\n",
       "       [9, 6]])"
      ]
     },
     "execution_count": 54,
     "metadata": {},
     "output_type": "execute_result"
    }
   ],
   "source": [
    "np.column_stack((p4,p5))"
   ]
  },
  {
   "cell_type": "code",
   "execution_count": 55,
   "id": "48fb5d65",
   "metadata": {},
   "outputs": [],
   "source": [
    "#numpy intersection & difference\n",
    "p6 = np.array([10,20,30,40,50,60])"
   ]
  },
  {
   "cell_type": "code",
   "execution_count": 56,
   "id": "635dc6af",
   "metadata": {},
   "outputs": [],
   "source": [
    "p7 = np.array([50,60,70,80,90])"
   ]
  },
  {
   "cell_type": "code",
   "execution_count": 57,
   "id": "2bd2741e",
   "metadata": {},
   "outputs": [
    {
     "data": {
      "text/plain": [
       "array([50, 60])"
      ]
     },
     "execution_count": 57,
     "metadata": {},
     "output_type": "execute_result"
    }
   ],
   "source": [
    "np.intersect1d(p6,p7)"
   ]
  },
  {
   "cell_type": "code",
   "execution_count": 58,
   "id": "ba14fcb3",
   "metadata": {},
   "outputs": [
    {
     "data": {
      "text/plain": [
       "array([10, 20, 30, 40])"
      ]
     },
     "execution_count": 58,
     "metadata": {},
     "output_type": "execute_result"
    }
   ],
   "source": [
    "np.setdiff1d(p6,p7)"
   ]
  },
  {
   "cell_type": "code",
   "execution_count": 59,
   "id": "72907430",
   "metadata": {},
   "outputs": [
    {
     "data": {
      "text/plain": [
       "array([70, 80, 90])"
      ]
     },
     "execution_count": 59,
     "metadata": {},
     "output_type": "execute_result"
    }
   ],
   "source": [
    "np.setdiff1d(p7,p6)"
   ]
  },
  {
   "cell_type": "code",
   "execution_count": 60,
   "id": "4ad1f4a5",
   "metadata": {},
   "outputs": [],
   "source": [
    "#numpy mathematics\n",
    "#addition of numpy arrays\n",
    "p8 = np.array([10,20])\n",
    "p9 = np.array([30,40])\n"
   ]
  },
  {
   "cell_type": "code",
   "execution_count": 61,
   "id": "b4896ef1",
   "metadata": {},
   "outputs": [
    {
     "data": {
      "text/plain": [
       "100"
      ]
     },
     "execution_count": 61,
     "metadata": {},
     "output_type": "execute_result"
    }
   ],
   "source": [
    "np.sum([p8,p9])"
   ]
  },
  {
   "cell_type": "code",
   "execution_count": 62,
   "id": "1c50b921",
   "metadata": {},
   "outputs": [
    {
     "data": {
      "text/plain": [
       "array([40, 60])"
      ]
     },
     "execution_count": 62,
     "metadata": {},
     "output_type": "execute_result"
    }
   ],
   "source": [
    "np.sum([p8,p9],axis=0)"
   ]
  },
  {
   "cell_type": "code",
   "execution_count": 63,
   "id": "6c05fe21",
   "metadata": {},
   "outputs": [
    {
     "data": {
      "text/plain": [
       "array([30, 70])"
      ]
     },
     "execution_count": 63,
     "metadata": {},
     "output_type": "execute_result"
    }
   ],
   "source": [
    "np.sum([p8,p9],axis=1)"
   ]
  },
  {
   "cell_type": "code",
   "execution_count": 64,
   "id": "b2d6a709",
   "metadata": {},
   "outputs": [],
   "source": [
    "#mathematics with scalar value\n",
    "t1 = np.array([10,20,30,40])"
   ]
  },
  {
   "cell_type": "code",
   "execution_count": 65,
   "id": "24b5faa6",
   "metadata": {},
   "outputs": [],
   "source": [
    "t1 = t1+1"
   ]
  },
  {
   "cell_type": "code",
   "execution_count": 66,
   "id": "afcd19d8",
   "metadata": {},
   "outputs": [
    {
     "data": {
      "text/plain": [
       "array([11, 21, 31, 41])"
      ]
     },
     "execution_count": 66,
     "metadata": {},
     "output_type": "execute_result"
    }
   ],
   "source": [
    "t1"
   ]
  },
  {
   "cell_type": "code",
   "execution_count": 67,
   "id": "124183b5",
   "metadata": {},
   "outputs": [],
   "source": [
    "t1 = t1-1"
   ]
  },
  {
   "cell_type": "code",
   "execution_count": 68,
   "id": "66d82491",
   "metadata": {},
   "outputs": [
    {
     "data": {
      "text/plain": [
       "array([10, 20, 30, 40])"
      ]
     },
     "execution_count": 68,
     "metadata": {},
     "output_type": "execute_result"
    }
   ],
   "source": [
    "t1"
   ]
  },
  {
   "cell_type": "code",
   "execution_count": 69,
   "id": "4c2c7932",
   "metadata": {},
   "outputs": [],
   "source": [
    "t1 = t1*2"
   ]
  },
  {
   "cell_type": "code",
   "execution_count": 70,
   "id": "fb1cf656",
   "metadata": {},
   "outputs": [
    {
     "data": {
      "text/plain": [
       "array([20, 40, 60, 80])"
      ]
     },
     "execution_count": 70,
     "metadata": {},
     "output_type": "execute_result"
    }
   ],
   "source": [
    "t1"
   ]
  },
  {
   "cell_type": "code",
   "execution_count": 71,
   "id": "5764ca00",
   "metadata": {},
   "outputs": [],
   "source": [
    "t1 = t1/2"
   ]
  },
  {
   "cell_type": "code",
   "execution_count": 72,
   "id": "0c5cd1bc",
   "metadata": {},
   "outputs": [
    {
     "data": {
      "text/plain": [
       "array([10., 20., 30., 40.])"
      ]
     },
     "execution_count": 72,
     "metadata": {},
     "output_type": "execute_result"
    }
   ],
   "source": [
    "t1"
   ]
  },
  {
   "cell_type": "code",
   "execution_count": 73,
   "id": "3e2cd0ab",
   "metadata": {},
   "outputs": [
    {
     "data": {
      "text/plain": [
       "25.0"
      ]
     },
     "execution_count": 73,
     "metadata": {},
     "output_type": "execute_result"
    }
   ],
   "source": [
    "np.mean(t1)"
   ]
  },
  {
   "cell_type": "code",
   "execution_count": 74,
   "id": "abadfe72",
   "metadata": {},
   "outputs": [
    {
     "data": {
      "text/plain": [
       "25.0"
      ]
     },
     "execution_count": 74,
     "metadata": {},
     "output_type": "execute_result"
    }
   ],
   "source": [
    "np.median(t1)"
   ]
  },
  {
   "cell_type": "code",
   "execution_count": 75,
   "id": "596f1b18",
   "metadata": {},
   "outputs": [
    {
     "data": {
      "text/plain": [
       "11.180339887498949"
      ]
     },
     "execution_count": 75,
     "metadata": {},
     "output_type": "execute_result"
    }
   ],
   "source": [
    "np.std(t1)"
   ]
  },
  {
   "cell_type": "code",
   "execution_count": 76,
   "id": "dc5a8103",
   "metadata": {},
   "outputs": [],
   "source": [
    "#numpy  save and load\n",
    "n1 = np.array([10,20,30,40,50])"
   ]
  },
  {
   "cell_type": "code",
   "execution_count": 77,
   "id": "6501dfc9",
   "metadata": {},
   "outputs": [],
   "source": [
    "np.save('my_numpy',n1)"
   ]
  },
  {
   "cell_type": "code",
   "execution_count": 78,
   "id": "ff874348",
   "metadata": {},
   "outputs": [
    {
     "data": {
      "text/plain": [
       "array([10, 20, 30, 40, 50])"
      ]
     },
     "execution_count": 78,
     "metadata": {},
     "output_type": "execute_result"
    }
   ],
   "source": [
    "n1"
   ]
  },
  {
   "cell_type": "code",
   "execution_count": 79,
   "id": "677aa962",
   "metadata": {},
   "outputs": [],
   "source": [
    "n2 = np.load('my_numpy.npy')"
   ]
  },
  {
   "cell_type": "code",
   "execution_count": 80,
   "id": "5d113bed",
   "metadata": {},
   "outputs": [
    {
     "data": {
      "text/plain": [
       "array([10, 20, 30, 40, 50])"
      ]
     },
     "execution_count": 80,
     "metadata": {},
     "output_type": "execute_result"
    }
   ],
   "source": [
    "n2"
   ]
  },
  {
   "cell_type": "code",
   "execution_count": null,
   "id": "5e785d81",
   "metadata": {},
   "outputs": [],
   "source": []
  }
 ],
 "metadata": {
  "kernelspec": {
   "display_name": "Python 3",
   "language": "python",
   "name": "python3"
  },
  "language_info": {
   "codemirror_mode": {
    "name": "ipython",
    "version": 3
   },
   "file_extension": ".py",
   "mimetype": "text/x-python",
   "name": "python",
   "nbconvert_exporter": "python",
   "pygments_lexer": "ipython3",
   "version": "3.8.8"
  }
 },
 "nbformat": 4,
 "nbformat_minor": 5
}
